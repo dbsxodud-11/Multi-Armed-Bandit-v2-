{
 "metadata": {
  "language_info": {
   "codemirror_mode": {
    "name": "ipython",
    "version": 3
   },
   "file_extension": ".py",
   "mimetype": "text/x-python",
   "name": "python",
   "nbconvert_exporter": "python",
   "pygments_lexer": "ipython3",
   "version": "3.7.7-final"
  },
  "orig_nbformat": 2,
  "kernelspec": {
   "name": "python3",
   "display_name": "Python 3.7.7 64-bit",
   "metadata": {
    "interpreter": {
     "hash": "0600588c3b5f4418cbe7b5ebc6825b479f3bc010269d8b60d75058cdd010adfe"
    }
   }
  }
 },
 "nbformat": 4,
 "nbformat_minor": 2,
 "cells": [
  {
   "cell_type": "code",
   "execution_count": 1,
   "metadata": {},
   "outputs": [],
   "source": [
    "# Import Module\n",
    "import numpy as np\n",
    "import pandas as pd\n",
    "import math\n",
    "import random\n",
    "import matplotlib.pyplot as plt\n",
    "from matplotlib import style\n",
    "\n",
    "from MAB.bandit import GaussianMultiArmedBandit, BinomialMultiArmedBandit, BernoulliMultiArmedBandit\n",
    "from MAB.policy import EpsGreedyPolicy"
   ]
  },
  {
   "cell_type": "code",
   "execution_count": 2,
   "metadata": {},
   "outputs": [
    {
     "output_type": "stream",
     "name": "stdout",
     "text": [
      "Gaussian Multi-Armed Bandit Initialized\nArm_0 - mu: 0   sigma: 0.5\nArm_1 - mu: 4   sigma: 0.4\nArm_2 - mu: 2   sigma: 0.2\nArm_3 - mu: 3   sigma: 0.8\nArm_4 - mu: 5   sigma: 0.7\n\nAction: 4, Reward: 5.364369993963022\nAction: 0, Reward: 0.32120621475099914\nAction: 3, Reward: 3.6746096432696973\nAction: 4, Reward: 4.888685932438285\nAction: 1, Reward: 4.616153481768668\nAction: 3, Reward: 2.5864687971420053\nAction: 3, Reward: 3.3458710618540004\nAction: 0, Reward: 0.0\nAction: 3, Reward: 1.8903014129605238\nAction: 0, Reward: 0.0\n"
     ]
    }
   ],
   "source": [
    "n_arms = 5\n",
    "mu = [0, 4, 2, 3, 5]\n",
    "sigma = [0.5, 0.4, 0.2, 0.8, 0.7]\n",
    "bandit = GaussianMultiArmedBandit(n_arms, mu, sigma)\n",
    "\n",
    "# Test Bandit Operation\n",
    "n_trials = 10\n",
    "for _ in range(n_trials) :\n",
    "    x = random.randint(0, n_arms-1)\n",
    "    print(f\"Action: {x}, Reward: {bandit.pull(x)}\")"
   ]
  },
  {
   "cell_type": "code",
   "execution_count": 6,
   "metadata": {},
   "outputs": [
    {
     "output_type": "stream",
     "name": "stdout",
     "text": [
      "Trial: 1, Action: 3\nTrial: 2, Action: 4\nTrial: 3, Action: 1\nTrial: 4, Action: 4\nTrial: 5, Action: 4\nTrial: 6, Action: 1\nTrial: 7, Action: 4\nTrial: 8, Action: 4\nTrial: 9, Action: 4\nTrial: 10, Action: 4\n"
     ]
    }
   ],
   "source": [
    "eps = 0.5\n",
    "policy = EpsGreedyPolicy(eps)\n",
    "Qs = [0, 4, 2, 3, 5]\n",
    "\n",
    "# Test Policy Operation\n",
    "n_trials = 10\n",
    "for i in range(n_trials) :\n",
    "    action = policy.get_action(Qs)\n",
    "    print(f\"Trial: {i+1}, Action: {action}\")"
   ]
  },
  {
   "cell_type": "code",
   "execution_count": null,
   "metadata": {},
   "outputs": [],
   "source": []
  }
 ]
}